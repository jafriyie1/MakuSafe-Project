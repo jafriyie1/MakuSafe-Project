{
 "cells": [
  {
   "cell_type": "code",
   "execution_count": 1,
   "metadata": {},
   "outputs": [],
   "source": [
    "import os\n",
    " \n",
    "path = '../Data/CSVs'\n",
    "listing = os.listdir(path)"
   ]
  },
  {
   "cell_type": "code",
   "execution_count": 11,
   "metadata": {},
   "outputs": [],
   "source": [
    "#Read in file\n",
    "for infile in listing:\n",
    "    file = open(\"../Data/CSVs/\"+infile)\n",
    "    fileInput =  file.read()\n",
    "    \n",
    "    fileFixed = \"\"\n",
    "    for line in fileInput:\n",
    "        fileFixed+=line.replace('\\n', ',')\n",
    "    \n",
    "    #split file into a list\n",
    "    fileSplit1 = [x.strip() for x in fileFixed.split(',')]\n",
    "    #print(fileSplit[1])\n",
    "    \n",
    "    fileSplit = fileSplit1[4:]\n",
    "\n",
    "    fileSplit = [fileSplit[i:i + int(len(fileSplit)/200)] for i in range(0, len(fileSplit), int(len(fileSplit)/200))]\n",
    "\n",
    "    fileSplitFixed = []\n",
    "    myList = []\n",
    "    finalList=[]\n",
    "    numDiction = 0\n",
    "    myDict = {}\n",
    "    for partition in fileSplit:\n",
    "        for x in range(len(partition)):\n",
    "            if x%4 == 0:\n",
    "                fileSplitFixed.append(myList)\n",
    "                myList = []\n",
    "            else:\n",
    "                myList.append(partition[x])\n",
    "        myDict[infile[:-4]+str(numDiction)] = fileSplitFixed\n",
    "        numDiction+=1\n",
    "        fileSplitFixed = []\n",
    "        finalList.append(myDict)\n",
    "        myDict={}\n",
    "    \n",
    "    finalDict = {}\n",
    "    finalDict[infile[:-4]] = finalList\n",
    "    \n",
    "    file.close()\n",
    "\n",
    "    #Change file name accordingly\n",
    "    import json\n",
    "    jsonName = infile[:-4]+\".json\"\n",
    "    myFile = open(jsonName, 'w')\n",
    "    json.dump(finalDict, myFile)"
   ]
  },
  {
   "cell_type": "code",
   "execution_count": 10,
   "metadata": {},
   "outputs": [],
   "source": [
    "#finalList"
   ]
  }
 ],
 "metadata": {
  "kernelspec": {
   "display_name": "Python 3",
   "language": "python",
   "name": "python3"
  },
  "language_info": {
   "codemirror_mode": {
    "name": "ipython",
    "version": 3
   },
   "file_extension": ".py",
   "mimetype": "text/x-python",
   "name": "python",
   "nbconvert_exporter": "python",
   "pygments_lexer": "ipython3",
   "version": "3.6.4"
  }
 },
 "nbformat": 4,
 "nbformat_minor": 2
}
